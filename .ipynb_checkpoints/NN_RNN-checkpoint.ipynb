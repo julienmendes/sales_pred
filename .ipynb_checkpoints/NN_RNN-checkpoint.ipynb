{
 "cells": [
  {
   "cell_type": "markdown",
   "metadata": {
    "colab_type": "text",
    "id": "_n83J8x1SeLo"
   },
   "source": [
    "This code is implemented in order to get the results of neurals networks apply in our data set.\n",
    "\n"
   ]
  },
  {
   "cell_type": "markdown",
   "metadata": {
    "colab_type": "text",
    "id": "GTO-8LutYLbN"
   },
   "source": [
    "# 1 - Deep learning on initial data"
   ]
  },
  {
   "cell_type": "markdown",
   "metadata": {
    "colab_type": "text",
    "id": "_jyjlTpYayTF"
   },
   "source": [
    "## Building the train test"
   ]
  },
  {
   "cell_type": "markdown",
   "metadata": {
    "colab_type": "text",
    "id": "cMFp9uvkPuqg"
   },
   "source": [
    "\n",
    "\n",
    "---\n",
    "\n"
   ]
  },
  {
   "cell_type": "code",
   "execution_count": 1,
   "metadata": {},
   "outputs": [],
   "source": [
    "import pandas as pd\n",
    "import numpy as np"
   ]
  },
  {
   "cell_type": "markdown",
   "metadata": {},
   "source": [
    "Initial Data"
   ]
  },
  {
   "cell_type": "code",
   "execution_count": 2,
   "metadata": {},
   "outputs": [],
   "source": [
    "data = pd.read_csv(\"preprocessed_data/data.csv\")"
   ]
  },
  {
   "cell_type": "markdown",
   "metadata": {},
   "source": [
    "Initial Data augmented with the cross products and the quared of variables"
   ]
  },
  {
   "cell_type": "code",
   "execution_count": 3,
   "metadata": {},
   "outputs": [],
   "source": [
    "data_sq_cross = pd.read_csv(\"preprocessed_data/data_sq_cross.csv\")"
   ]
  },
  {
   "cell_type": "code",
   "execution_count": 4,
   "metadata": {
    "colab": {},
    "colab_type": "code",
    "id": "SHeiult4xGGk"
   },
   "outputs": [],
   "source": [
    "#remplacing all the id by a numerical unique numerical value\n",
    "test_list = [i for i in range(1,8200)]\n",
    "res = [i for i in test_list for x in range(0, 9)]\n",
    "data['recode_id'] = np.array(res).reshape(-1,1)\n",
    "\n",
    "#remplacing date by a number between 0 and 9 sepending on the initial date \n",
    "data = data.sort_values(by='order_purchase_timestamp')\n",
    "test_list = [i for i in range(0,9)]\n",
    "res = [i for i in test_list for x in range(0, 8199)]\n",
    "data['order_purchase_timestamp'] = np.array(res).reshape(-1,1)\n",
    "\n",
    "data = data.sort_values(by='nb_ventes')"
   ]
  },
  {
   "cell_type": "code",
   "execution_count": 5,
   "metadata": {
    "colab": {},
    "colab_type": "code",
    "id": "o2yT6TQWO3nM"
   },
   "outputs": [],
   "source": [
    "data = data.drop(['product_id'], axis=1)"
   ]
  },
  {
   "cell_type": "markdown",
   "metadata": {
    "colab_type": "text",
    "id": "f-qpTr5dVaf6"
   },
   "source": [
    "**Test**"
   ]
  },
  {
   "cell_type": "code",
   "execution_count": 6,
   "metadata": {
    "colab": {},
    "colab_type": "code",
    "id": "WwmQP2bxhHzN"
   },
   "outputs": [],
   "source": [
    "#attibute the last amount of sales to y_test\n",
    "y_test = data['nb_ventes'].where(data['order_purchase_timestamp'] == data['order_purchase_timestamp'].unique()[-1]).dropna().reset_index(drop=True)"
   ]
  },
  {
   "cell_type": "code",
   "execution_count": 7,
   "metadata": {
    "colab": {},
    "colab_type": "code",
    "id": "Argl-ybfhm5J"
   },
   "outputs": [],
   "source": [
    "#attribute the feature of the product in the 8th date to X_test\n",
    "X_test = data.where(data['order_purchase_timestamp'] == data['order_purchase_timestamp'].unique()[-2]).dropna().reset_index(drop=True)"
   ]
  },
  {
   "cell_type": "markdown",
   "metadata": {
    "colab_type": "text",
    "id": "LS64WukSmAgo"
   },
   "source": [
    "**Train**"
   ]
  },
  {
   "cell_type": "code",
   "execution_count": 8,
   "metadata": {
    "colab": {
     "base_uri": "https://localhost:8080/"
    },
    "colab_type": "code",
    "id": "EUgbOdSImEce",
    "outputId": "e56bb6bc-31de-47bd-fbbb-8652141e6eeb"
   },
   "outputs": [],
   "source": [
    "X_train = np.zeros((1,91))\n",
    "y_train = np.zeros((1,1))\n",
    "for i in data['order_purchase_timestamp'].unique():\n",
    "    if i == data['order_purchase_timestamp'].unique()[-2]:\n",
    "        break\n",
    "    y = data['nb_ventes'].where(data['order_purchase_timestamp'] == (data['order_purchase_timestamp'].unique()[data['order_purchase_timestamp']\n",
    "                                                                                                               .unique()\n",
    "                                                                                                               .tolist()\n",
    "                                                                                                               .index(i)+1])).dropna().reset_index(drop=True)\n",
    "    y = np.array(y).reshape((y.shape[0],1)) #completer le vecteur colone y_train avec chaque vente du mois correpondant \n",
    "    y_train = np.concatenate((y_train, y), axis=0)\n",
    "    X = data.where(data['order_purchase_timestamp'] == i).dropna().reset_index(drop=True)\n",
    "    X_train = np.concatenate((X_train, X), axis=0) #completer la matrice X_train avec les variables du mois precedent\n",
    "X_train = np.delete(X_train, (0), axis=0)\n",
    "y_train = np.delete(y_train, (0), axis=0)"
   ]
  },
  {
   "cell_type": "code",
   "execution_count": 9,
   "metadata": {
    "colab": {},
    "colab_type": "code",
    "id": "VpOrGWYAx4h1"
   },
   "outputs": [],
   "source": [
    "y_test = np.array(y_test).reshape(-1,1)"
   ]
  },
  {
   "cell_type": "code",
   "execution_count": 10,
   "metadata": {
    "colab": {},
    "colab_type": "code",
    "id": "TVbSPBxt2YVw"
   },
   "outputs": [],
   "source": [
    "X_test = np.array(X_test)"
   ]
  },
  {
   "cell_type": "markdown",
   "metadata": {
    "colab_type": "text",
    "id": "NWvhI9RD4euB"
   },
   "source": [
    "## NN implementation"
   ]
  },
  {
   "cell_type": "markdown",
   "metadata": {
    "colab_type": "text",
    "id": "YUgmkDw-XBUI"
   },
   "source": [
    "**NN**"
   ]
  },
  {
   "cell_type": "code",
   "execution_count": 11,
   "metadata": {
    "colab": {
     "base_uri": "https://localhost:8080/"
    },
    "colab_type": "code",
    "id": "xSta4kyQ8hkI",
    "outputId": "44d2c350-fe92-4916-f394-f39e1653df50"
   },
   "outputs": [
    {
     "name": "stderr",
     "output_type": "stream",
     "text": [
      "Using TensorFlow backend.\n"
     ]
    }
   ],
   "source": [
    "import keras"
   ]
  },
  {
   "cell_type": "code",
   "execution_count": 12,
   "metadata": {
    "colab": {},
    "colab_type": "code",
    "id": "z4CrnUmGiojm"
   },
   "outputs": [],
   "source": [
    "from keras.models import Sequential\n",
    "from keras.layers import Dense, Activation, SimpleRNN, ReLU, Dropout, Embedding"
   ]
  },
  {
   "cell_type": "code",
   "execution_count": 13,
   "metadata": {
    "colab": {},
    "colab_type": "code",
    "id": "F0gDsdoF3cqv"
   },
   "outputs": [],
   "source": [
    "X_train = np.array(X_train).reshape(57393,91)\n",
    "X_test = np.array(X_test).reshape(8199,91)"
   ]
  },
  {
   "cell_type": "code",
   "execution_count": 14,
   "metadata": {
    "colab": {},
    "colab_type": "code",
    "id": "NCrM3R8AMe8V"
   },
   "outputs": [],
   "source": [
    "y_train = keras.utils.to_categorical(y_train) #categorisation de la variable y\n",
    "y_test = keras.utils.to_categorical(y_test)"
   ]
  },
  {
   "cell_type": "code",
   "execution_count": 15,
   "metadata": {
    "colab": {
     "base_uri": "https://localhost:8080/"
    },
    "colab_type": "code",
    "id": "h8qsSz3FbaMN",
    "outputId": "5e86db1b-80d2-4118-c470-be720fde5fe9"
   },
   "outputs": [
    {
     "name": "stdout",
     "output_type": "stream",
     "text": [
      "(57393, 46) (8199, 36)\n"
     ]
    }
   ],
   "source": [
    "print(y_train.shape,y_test.shape)"
   ]
  },
  {
   "cell_type": "code",
   "execution_count": 16,
   "metadata": {
    "colab": {
     "base_uri": "https://localhost:8080/"
    },
    "colab_type": "code",
    "id": "8HPGuUPqRB4Y",
    "outputId": "8b3ec6ba-9a15-4b67-f801-8bf97b93bc32"
   },
   "outputs": [
    {
     "data": {
      "text/plain": [
       "(8199, 46)"
      ]
     },
     "execution_count": 16,
     "metadata": {},
     "output_type": "execute_result"
    }
   ],
   "source": [
    "#y_test ayant moins de modalité de y_train on la rempli par des zeros\n",
    "addytest = np.zeros((8199,10))\n",
    "y_test = np.concatenate((y_test,addytest), axis = 1)\n",
    "y_test.shape"
   ]
  },
  {
   "cell_type": "code",
   "execution_count": 17,
   "metadata": {
    "colab": {
     "base_uri": "https://localhost:8080/"
    },
    "colab_type": "code",
    "id": "_k3Rdn95mj4J",
    "outputId": "dfbe9883-5e37-438f-cd2c-d98553aa9c40"
   },
   "outputs": [],
   "source": [
    "model = Sequential()\n",
    "model.add(Dense(64, activation='relu',input_shape=(91,)))\n",
    "model.add(Dense(32, activation='sigmoid'))                  \n",
    "model.add(Dense(46, activation='softmax'))\n",
    "\n",
    "model.compile(loss='binary_crossentropy',optimizer='rmsprop',metrics=['accuracy'])"
   ]
  },
  {
   "cell_type": "code",
   "execution_count": 18,
   "metadata": {
    "colab": {
     "base_uri": "https://localhost:8080/"
    },
    "colab_type": "code",
    "id": "U5yHGFMpnQR_",
    "outputId": "d2e1aec5-350e-4d07-d214-3e94c823ccf7"
   },
   "outputs": [
    {
     "name": "stdout",
     "output_type": "stream",
     "text": [
      "Train on 45914 samples, validate on 11479 samples\n",
      "Epoch 1/6\n",
      "45914/45914 [==============================] - 5s 112us/step - loss: 0.0367 - accuracy: 0.9851 - val_loss: 0.0441 - val_accuracy: 0.9780\n",
      "Epoch 2/6\n",
      "45914/45914 [==============================] - 5s 101us/step - loss: 0.0355 - accuracy: 0.9855 - val_loss: 0.0445 - val_accuracy: 0.9780\n",
      "Epoch 3/6\n",
      "45914/45914 [==============================] - 5s 103us/step - loss: 0.0356 - accuracy: 0.9855 - val_loss: 0.0451 - val_accuracy: 0.9780\n",
      "Epoch 4/6\n",
      "45914/45914 [==============================] - 5s 113us/step - loss: 0.0355 - accuracy: 0.9855 - val_loss: 0.0450 - val_accuracy: 0.9780\n",
      "Epoch 5/6\n",
      "45914/45914 [==============================] - 5s 103us/step - loss: 0.0355 - accuracy: 0.9855 - val_loss: 0.0439 - val_accuracy: 0.9781\n",
      "Epoch 6/6\n",
      "45914/45914 [==============================] - 5s 112us/step - loss: 0.0355 - accuracy: 0.9855 - val_loss: 0.0461 - val_accuracy: 0.9780\n",
      "8199/8199 [==============================] - 0s 38us/step\n"
     ]
    }
   ],
   "source": [
    "model.fit(X_train, y_train,epochs=6, validation_split=0.2)\n",
    "score = model.evaluate(X_test, y_test)"
   ]
  },
  {
   "cell_type": "code",
   "execution_count": 20,
   "metadata": {
    "colab": {
     "base_uri": "https://localhost:8080/"
    },
    "colab_type": "code",
    "id": "yq0hax9-3WEL",
    "outputId": "c6b87df9-bac3-4a77-f7d4-bc4a4fa6106f"
   },
   "outputs": [
    {
     "data": {
      "text/plain": [
       "[0.039937970790649015, 0.9830277562141418]"
      ]
     },
     "execution_count": 20,
     "metadata": {},
     "output_type": "execute_result"
    }
   ],
   "source": [
    "score"
   ]
  },
  {
   "cell_type": "markdown",
   "metadata": {
    "colab_type": "text",
    "id": "uwmFOgf5XFNa"
   },
   "source": [
    "**RNN**"
   ]
  },
  {
   "cell_type": "code",
   "execution_count": 21,
   "metadata": {
    "colab": {},
    "colab_type": "code",
    "id": "dHnVzIlN1DWo"
   },
   "outputs": [],
   "source": [
    "X_train = np.array(X_train).reshape(57393,91,1)\n",
    "X_test = np.array(X_test).reshape(8199,91,1)"
   ]
  },
  {
   "cell_type": "code",
   "execution_count": 22,
   "metadata": {
    "colab": {
     "base_uri": "https://localhost:8080/"
    },
    "colab_type": "code",
    "id": "47XuoKP7FLXJ",
    "outputId": "60d4e7e4-1a15-45f3-e5ab-6368e4fc18da"
   },
   "outputs": [
    {
     "data": {
      "text/plain": [
       "array([1., 0., 0., 0., 0., 0., 0., 0., 0., 0., 0., 0., 0., 0., 0., 0., 0.,\n",
       "       0., 0., 0., 0., 0., 0., 0., 0., 0., 0., 0., 0., 0., 0., 0., 0., 0.,\n",
       "       0., 0., 0., 0., 0., 0., 0., 0., 0., 0., 0., 0.], dtype=float32)"
      ]
     },
     "execution_count": 22,
     "metadata": {},
     "output_type": "execute_result"
    }
   ],
   "source": [
    "y_train[0]"
   ]
  },
  {
   "cell_type": "code",
   "execution_count": 23,
   "metadata": {
    "colab": {
     "base_uri": "https://localhost:8080/"
    },
    "colab_type": "code",
    "id": "mpK1a-CiBHmH",
    "outputId": "396f7fb6-2c33-4031-f875-0a58898957e0"
   },
   "outputs": [
    {
     "data": {
      "text/plain": [
       "(2,)"
      ]
     },
     "execution_count": 23,
     "metadata": {},
     "output_type": "execute_result"
    }
   ],
   "source": [
    "pd.DataFrame(y_train).iloc[:,0].unique().shape"
   ]
  },
  {
   "cell_type": "code",
   "execution_count": 24,
   "metadata": {
    "colab": {},
    "colab_type": "code",
    "id": "94DHyZiIzoCg"
   },
   "outputs": [],
   "source": [
    "model = Sequential() \n",
    "model.add(Dense(96, activation='relu',input_shape=(91,1)))\n",
    "model.add(Dense(64, activation='sigmoid'))\n",
    "model.add(SimpleRNN(32))\n",
    "model.add(Dense(46, activation='softmax'))\n",
    "\n",
    "model.compile(loss='binary_crossentropy',optimizer='rmsprop',metrics=['accuracy'])"
   ]
  },
  {
   "cell_type": "code",
   "execution_count": 25,
   "metadata": {
    "colab": {
     "base_uri": "https://localhost:8080/"
    },
    "colab_type": "code",
    "id": "FARMRF4_0iFg",
    "outputId": "f4a4f06e-5821-47ab-9977-2faf505219fd"
   },
   "outputs": [
    {
     "name": "stdout",
     "output_type": "stream",
     "text": [
      "Train on 45914 samples, validate on 11479 samples\n",
      "Epoch 1/3\n",
      "45914/45914 [==============================] - 67s 1ms/step - loss: 0.0362 - accuracy: 0.9854 - val_loss: 0.0457 - val_accuracy: 0.9780\n",
      "Epoch 2/3\n",
      "45914/45914 [==============================] - 66s 1ms/step - loss: 0.0355 - accuracy: 0.9855 - val_loss: 0.0435 - val_accuracy: 0.9780\n",
      "Epoch 3/3\n",
      "45914/45914 [==============================] - 66s 1ms/step - loss: 0.0355 - accuracy: 0.9855 - val_loss: 0.0435 - val_accuracy: 0.9780\n",
      "8199/8199 [==============================] - 3s 418us/step\n"
     ]
    }
   ],
   "source": [
    "model.fit(X_train, y_train,epochs=3, validation_split=0.2)\n",
    "score = model.evaluate(X_test, y_test)"
   ]
  },
  {
   "cell_type": "code",
   "execution_count": 26,
   "metadata": {
    "colab": {
     "base_uri": "https://localhost:8080/"
    },
    "colab_type": "code",
    "id": "Ubn5C89KfeS8",
    "outputId": "97b64f60-5181-4b3a-b14b-21ab236d45f7"
   },
   "outputs": [
    {
     "data": {
      "text/plain": [
       "[0.03896426417752292, 0.9830251336097717]"
      ]
     },
     "execution_count": 26,
     "metadata": {},
     "output_type": "execute_result"
    }
   ],
   "source": [
    "score"
   ]
  },
  {
   "cell_type": "markdown",
   "metadata": {
    "colab_type": "text",
    "id": "UaU1TIbTCaTW"
   },
   "source": [
    "# 2 - Deep learning avec les variables sélectionnées par Lasso sur le dataset initial"
   ]
  },
  {
   "cell_type": "code",
   "execution_count": 71,
   "metadata": {},
   "outputs": [],
   "source": [
    "data = pd.read_csv(\"data.csv\")"
   ]
  },
  {
   "cell_type": "code",
   "execution_count": 72,
   "metadata": {
    "colab": {},
    "colab_type": "code",
    "id": "m3qYtsxmC1aK"
   },
   "outputs": [],
   "source": [
    "data_no_cross = data[['order_purchase_timestamp','product_id','price','product_description_lenght','cummean_taille_com','taille_com','review_score','nb_ventes']]"
   ]
  },
  {
   "cell_type": "markdown",
   "metadata": {
    "colab_type": "text",
    "id": "7JF7Se1tC18-"
   },
   "source": [
    "## Building the train test split"
   ]
  },
  {
   "cell_type": "markdown",
   "metadata": {
    "colab_type": "text",
    "id": "Do69QuUQC19A"
   },
   "source": [
    "\n",
    "\n",
    "---\n",
    "\n"
   ]
  },
  {
   "cell_type": "markdown",
   "metadata": {
    "colab_type": "text",
    "id": "ynxfVU6SXvSw"
   },
   "source": [
    "**Test**"
   ]
  },
  {
   "cell_type": "code",
   "execution_count": 29,
   "metadata": {
    "colab": {
     "base_uri": "https://localhost:8080/",
     "height": 139
    },
    "colab_type": "code",
    "id": "Td4Prv2JC19B",
    "outputId": "625ad598-3d0f-4362-f6bb-f45d6e5ea327"
   },
   "outputs": [
    {
     "name": "stderr",
     "output_type": "stream",
     "text": [
      "C:\\Users\\33633\\Anaconda3\\lib\\site-packages\\ipykernel_launcher.py:3: SettingWithCopyWarning: \n",
      "A value is trying to be set on a copy of a slice from a DataFrame.\n",
      "Try using .loc[row_indexer,col_indexer] = value instead\n",
      "\n",
      "See the caveats in the documentation: http://pandas.pydata.org/pandas-docs/stable/user_guide/indexing.html#returning-a-view-versus-a-copy\n",
      "  This is separate from the ipykernel package so we can avoid doing imports until\n"
     ]
    }
   ],
   "source": [
    "test_list = [i for i in range(1,8200)]\n",
    "res = [i for i in test_list for x in range(0, 9)]\n",
    "data_no_cross['recode_id'] = np.array(res).reshape(-1,1)\n",
    "data_no_cross = data_no_cross.sort_values(by='order_purchase_timestamp')\n",
    "test_list = [i for i in range(0,9)]\n",
    "res = [i for i in test_list for x in range(0, 8199)]\n",
    "data_no_cross['order_purchase_timestamp'] = np.array(res).reshape(-1,1)\n",
    "data_no_cross = data_no_cross.sort_values(by='nb_ventes')"
   ]
  },
  {
   "cell_type": "code",
   "execution_count": 30,
   "metadata": {
    "colab": {},
    "colab_type": "code",
    "id": "uOjWjdQUC19E"
   },
   "outputs": [],
   "source": [
    "data_no_cross = data_no_cross.drop(['product_id'], axis=1)"
   ]
  },
  {
   "cell_type": "code",
   "execution_count": 31,
   "metadata": {
    "colab": {},
    "colab_type": "code",
    "id": "xm2RUCm2C19O"
   },
   "outputs": [],
   "source": [
    "y_test = data_no_cross['nb_ventes'].where(data_no_cross['order_purchase_timestamp'] == data_no_cross['order_purchase_timestamp'].unique()[-1]).dropna().reset_index(drop=True)"
   ]
  },
  {
   "cell_type": "code",
   "execution_count": 32,
   "metadata": {
    "colab": {},
    "colab_type": "code",
    "id": "o9F9fUBHC19W"
   },
   "outputs": [],
   "source": [
    "X_test = data_no_cross.where(data_no_cross['order_purchase_timestamp'] == data_no_cross['order_purchase_timestamp'].unique()[-2]).dropna().reset_index(drop=True)"
   ]
  },
  {
   "cell_type": "markdown",
   "metadata": {
    "colab_type": "text",
    "id": "oW6c0LXNC19e"
   },
   "source": [
    "**Train**"
   ]
  },
  {
   "cell_type": "code",
   "execution_count": 33,
   "metadata": {
    "colab": {
     "base_uri": "https://localhost:8080/",
     "height": 255
    },
    "colab_type": "code",
    "id": "6bW6ZSgPC19f",
    "outputId": "fb7b244b-a636-4aaf-94db-9b17f7fa74bd"
   },
   "outputs": [],
   "source": [
    "X_train = np.zeros((1,8))\n",
    "y_train = np.zeros((1,1))\n",
    "for i in data_no_cross['order_purchase_timestamp'].unique():\n",
    "    if i == data_no_cross['order_purchase_timestamp'].unique()[-2]:\n",
    "        break\n",
    "    y = data_no_cross['nb_ventes'].where(data_no_cross['order_purchase_timestamp'] == (data_no_cross['order_purchase_timestamp'].unique()[data_no_cross['order_purchase_timestamp']\n",
    "                                                                                                               .unique()\n",
    "                                                                                                               .tolist()\n",
    "                                                                                                               .index(i)+1])).dropna().reset_index(drop=True)\n",
    "    \n",
    "    \n",
    "    y = np.array(y).reshape((y.shape[0],1))\n",
    "    y_train = np.concatenate((y_train, y), axis=0)\n",
    "    X = data_no_cross.where(data_no_cross['order_purchase_timestamp'] == i).dropna().reset_index(drop=True)\n",
    "    X_train = np.concatenate((X_train, X), axis=0)\n",
    "X_train = np.delete(X_train, (0), axis=0)\n",
    "y_train = np.delete(y_train, (0), axis=0)"
   ]
  },
  {
   "cell_type": "code",
   "execution_count": 34,
   "metadata": {
    "colab": {},
    "colab_type": "code",
    "id": "K159A52eC19l"
   },
   "outputs": [],
   "source": [
    "y_test = np.array(y_test).reshape(-1,1)"
   ]
  },
  {
   "cell_type": "code",
   "execution_count": 35,
   "metadata": {
    "colab": {},
    "colab_type": "code",
    "id": "-QMcx4DEC19n"
   },
   "outputs": [],
   "source": [
    "X_test = np.array(X_test)"
   ]
  },
  {
   "cell_type": "markdown",
   "metadata": {
    "colab_type": "text",
    "id": "uMuYsgAAESqB"
   },
   "source": [
    "## Implement NN"
   ]
  },
  {
   "cell_type": "markdown",
   "metadata": {
    "colab_type": "text",
    "id": "5xLZI1mBY_FB"
   },
   "source": [
    "**NN**"
   ]
  },
  {
   "cell_type": "code",
   "execution_count": 36,
   "metadata": {
    "colab": {},
    "colab_type": "code",
    "id": "oenP6OquESqK"
   },
   "outputs": [],
   "source": [
    "import keras"
   ]
  },
  {
   "cell_type": "code",
   "execution_count": 37,
   "metadata": {
    "colab": {},
    "colab_type": "code",
    "id": "ipwZPPAAESqO"
   },
   "outputs": [],
   "source": [
    "from keras.models import Sequential\n",
    "from keras.layers import Dense, Activation, SimpleRNN, ReLU, Dropout, Embedding"
   ]
  },
  {
   "cell_type": "code",
   "execution_count": 38,
   "metadata": {
    "colab": {},
    "colab_type": "code",
    "id": "L7O41RdqESqc"
   },
   "outputs": [],
   "source": [
    "X_train = np.array(X_train).reshape(57393,8)\n",
    "X_test = np.array(X_test).reshape(8199,8)"
   ]
  },
  {
   "cell_type": "code",
   "execution_count": 39,
   "metadata": {
    "colab": {},
    "colab_type": "code",
    "id": "Vt8g_sWdESqf"
   },
   "outputs": [],
   "source": [
    "y_train = keras.utils.to_categorical(y_train)\n",
    "y_test = keras.utils.to_categorical(y_test)"
   ]
  },
  {
   "cell_type": "code",
   "execution_count": 40,
   "metadata": {
    "colab": {
     "base_uri": "https://localhost:8080/",
     "height": 34
    },
    "colab_type": "code",
    "id": "ZzMA6YilESqj",
    "outputId": "d5f3a1a9-890a-49fb-9221-2954fac96858"
   },
   "outputs": [
    {
     "name": "stdout",
     "output_type": "stream",
     "text": [
      "(57393, 46) (8199, 36)\n"
     ]
    }
   ],
   "source": [
    "print(y_train.shape,y_test.shape)"
   ]
  },
  {
   "cell_type": "code",
   "execution_count": 41,
   "metadata": {
    "colab": {
     "base_uri": "https://localhost:8080/",
     "height": 34
    },
    "colab_type": "code",
    "id": "2lpRH5vDESqm",
    "outputId": "9374b79f-ec45-421e-8e77-2c83a607aba9"
   },
   "outputs": [
    {
     "data": {
      "text/plain": [
       "(8199, 46)"
      ]
     },
     "execution_count": 41,
     "metadata": {},
     "output_type": "execute_result"
    }
   ],
   "source": [
    "addytest = np.zeros((8199,10))\n",
    "y_test = np.concatenate((y_test,addytest), axis = 1)\n",
    "y_test.shape"
   ]
  },
  {
   "cell_type": "code",
   "execution_count": 42,
   "metadata": {
    "colab": {},
    "colab_type": "code",
    "id": "5wnVKTPlESqq"
   },
   "outputs": [],
   "source": [
    "model = Sequential()\n",
    "model.add(Dense(64, activation='sigmoid',input_shape=(8,)))\n",
    "model.add(Dense(32, activation='sigmoid'))\n",
    "model.add(Dense(46, activation='softmax'))\n",
    "\n",
    "model.compile(loss='binary_crossentropy',optimizer='rmsprop',metrics=['accuracy'])"
   ]
  },
  {
   "cell_type": "code",
   "execution_count": 43,
   "metadata": {
    "colab": {
     "base_uri": "https://localhost:8080/",
     "height": 275
    },
    "colab_type": "code",
    "id": "v1E_ZTlWESqu",
    "outputId": "653abc05-b9a0-4ff0-adfc-6275e3505180"
   },
   "outputs": [
    {
     "name": "stdout",
     "output_type": "stream",
     "text": [
      "Train on 45914 samples, validate on 11479 samples\n",
      "Epoch 1/6\n",
      "45914/45914 [==============================] - 4s 88us/step - loss: 0.0370 - accuracy: 0.9851 - val_loss: 0.0451 - val_accuracy: 0.9780\n",
      "Epoch 2/6\n",
      "45914/45914 [==============================] - 4s 94us/step - loss: 0.0350 - accuracy: 0.9855 - val_loss: 0.0435 - val_accuracy: 0.9782\n",
      "Epoch 3/6\n",
      "45914/45914 [==============================] - 5s 118us/step - loss: 0.0349 - accuracy: 0.9855 - val_loss: 0.0430 - val_accuracy: 0.9781\n",
      "Epoch 4/6\n",
      "45914/45914 [==============================] - 5s 114us/step - loss: 0.0349 - accuracy: 0.9856 - val_loss: 0.0432 - val_accuracy: 0.9785\n",
      "Epoch 5/6\n",
      "45914/45914 [==============================] - 5s 115us/step - loss: 0.0347 - accuracy: 0.9856 - val_loss: 0.0436 - val_accuracy: 0.9786\n",
      "Epoch 6/6\n",
      "45914/45914 [==============================] - 5s 105us/step - loss: 0.0341 - accuracy: 0.9857 - val_loss: 0.0402 - val_accuracy: 0.9781\n",
      "8199/8199 [==============================] - 0s 42us/step\n"
     ]
    }
   ],
   "source": [
    "model.fit(X_train, y_train,epochs=6, validation_split=0.2)\n",
    "score = model.evaluate(X_test, y_test)"
   ]
  },
  {
   "cell_type": "code",
   "execution_count": 44,
   "metadata": {
    "colab": {
     "base_uri": "https://localhost:8080/",
     "height": 34
    },
    "colab_type": "code",
    "id": "cFoCHDi7ESqx",
    "outputId": "cd1ae492-1e7c-4322-be04-c3a52423bd72"
   },
   "outputs": [
    {
     "data": {
      "text/plain": [
       "[0.03422694282606471, 0.9830963015556335]"
      ]
     },
     "execution_count": 44,
     "metadata": {},
     "output_type": "execute_result"
    }
   ],
   "source": [
    "score"
   ]
  },
  {
   "cell_type": "markdown",
   "metadata": {
    "colab_type": "text",
    "id": "DlNxG6vTZExM"
   },
   "source": [
    "**RNN**"
   ]
  },
  {
   "cell_type": "code",
   "execution_count": 45,
   "metadata": {
    "colab": {},
    "colab_type": "code",
    "id": "1HanqdlGESrB"
   },
   "outputs": [],
   "source": [
    "X_train = np.array(X_train).reshape(57393,8,1)\n",
    "X_test = np.array(X_test).reshape(8199,8,1)"
   ]
  },
  {
   "cell_type": "code",
   "execution_count": 46,
   "metadata": {
    "colab": {},
    "colab_type": "code",
    "id": "bci0_cq1ESrL"
   },
   "outputs": [],
   "source": [
    "model = Sequential() \n",
    "model.add(Dense(96, activation='relu',input_shape=(8,1)))\n",
    "model.add(Dense(64, activation='sigmoid'))\n",
    "model.add(SimpleRNN(32))\n",
    "model.add(Dense(46, activation='softmax'))\n",
    "\n",
    "model.compile(loss='binary_crossentropy',optimizer='rmsprop',metrics=['accuracy'])"
   ]
  },
  {
   "cell_type": "code",
   "execution_count": 47,
   "metadata": {
    "colab": {
     "base_uri": "https://localhost:8080/",
     "height": 173
    },
    "colab_type": "code",
    "id": "UKB3xiOlESrN",
    "outputId": "3192f9f5-5661-40fc-a47a-df06ca166327"
   },
   "outputs": [
    {
     "name": "stdout",
     "output_type": "stream",
     "text": [
      "Train on 45914 samples, validate on 11479 samples\n",
      "Epoch 1/3\n",
      "45914/45914 [==============================] - 12s 262us/step - loss: 0.0114 - accuracy: 0.9968 - val_loss: 0.0179 - val_accuracy: 0.9954\n",
      "Epoch 2/3\n",
      "45914/45914 [==============================] - 14s 313us/step - loss: 0.0076 - accuracy: 0.9981 - val_loss: 0.0179 - val_accuracy: 0.9955\n",
      "Epoch 3/3\n",
      "45914/45914 [==============================] - 12s 254us/step - loss: 0.0075 - accuracy: 0.9981 - val_loss: 0.0180 - val_accuracy: 0.9954\n",
      "8199/8199 [==============================] - 1s 155us/step\n"
     ]
    }
   ],
   "source": [
    "model.fit(X_train, y_train,epochs=3, validation_split=0.2)\n",
    "score = model.evaluate(X_test, y_test)"
   ]
  },
  {
   "cell_type": "code",
   "execution_count": 48,
   "metadata": {
    "colab": {
     "base_uri": "https://localhost:8080/",
     "height": 34
    },
    "colab_type": "code",
    "id": "vg3TXddHESrR",
    "outputId": "68d3ea83-90cf-4b8b-b9f6-ab0811aeeafe"
   },
   "outputs": [
    {
     "data": {
      "text/plain": [
       "[0.010766324583304256, 0.9975901246070862]"
      ]
     },
     "execution_count": 48,
     "metadata": {},
     "output_type": "execute_result"
    }
   ],
   "source": [
    "score"
   ]
  },
  {
   "cell_type": "markdown",
   "metadata": {
    "colab_type": "text",
    "id": "vEzbLMGXJ1AV"
   },
   "source": [
    "# 3 - Deep learning avec les variables sélectionnées par Lasso sur le dataset avec variables croisées et variables au carré"
   ]
  },
  {
   "cell_type": "code",
   "execution_count": 49,
   "metadata": {
    "colab": {},
    "colab_type": "code",
    "id": "DATBquwUZPeB"
   },
   "outputs": [],
   "source": [
    "data_sq_cross = data_sq_cross[['order_purchase_timestamp','product_id','cummean_taille_com_x_cummean_review_score','taille_com_2','taille_com_x_cummean_taille_com','review_score_x_taille_com','nb_ventes']]"
   ]
  },
  {
   "cell_type": "markdown",
   "metadata": {
    "colab_type": "text",
    "id": "c_gdvZTMJ1Ae"
   },
   "source": [
    "## Building the train test split"
   ]
  },
  {
   "cell_type": "markdown",
   "metadata": {
    "colab_type": "text",
    "id": "PMD-_-yPZqwL"
   },
   "source": [
    "**Test**"
   ]
  },
  {
   "cell_type": "code",
   "execution_count": 50,
   "metadata": {
    "colab": {},
    "colab_type": "code",
    "id": "TgTTRB5nKXWX"
   },
   "outputs": [],
   "source": [
    "data_sq_cross = data_sq_cross[['order_purchase_timestamp','product_id','cummean_taille_com_x_cummean_review_score','taille_com_2','taille_com_x_cummean_taille_com','review_score_x_taille_com','nb_ventes']]"
   ]
  },
  {
   "cell_type": "markdown",
   "metadata": {
    "colab_type": "text",
    "id": "ceY_Z-UPJ1Af"
   },
   "source": [
    "\n",
    "\n",
    "---\n",
    "\n"
   ]
  },
  {
   "cell_type": "code",
   "execution_count": 51,
   "metadata": {
    "colab": {
     "base_uri": "https://localhost:8080/",
     "height": 139
    },
    "colab_type": "code",
    "id": "pXanEdhFJ1Ag",
    "outputId": "d735d972-42eb-425f-c679-15494bbed1f8"
   },
   "outputs": [],
   "source": [
    "test_list = [i for i in range(1,8200)]\n",
    "res = [i for i in test_list for x in range(0, 9)]\n",
    "data_sq_cross['recode_id'] = np.array(res).reshape(-1,1)\n",
    "data_sq_cross = data_sq_cross.sort_values(by='order_purchase_timestamp')\n",
    "test_list = [i for i in range(0,9)]\n",
    "res = [i for i in test_list for x in range(0, 8199)]\n",
    "data_sq_cross['order_purchase_timestamp'] = np.array(res).reshape(-1,1)\n",
    "data_sq_cross = data_sq_cross.sort_values(by='nb_ventes')"
   ]
  },
  {
   "cell_type": "code",
   "execution_count": 52,
   "metadata": {
    "colab": {},
    "colab_type": "code",
    "id": "x7qM-dTRJ1Aj"
   },
   "outputs": [],
   "source": [
    "data_sq_cross = data_sq_cross.drop(['product_id'], axis=1)"
   ]
  },
  {
   "cell_type": "code",
   "execution_count": 53,
   "metadata": {
    "colab": {},
    "colab_type": "code",
    "id": "IAb-udtxJ1Aq"
   },
   "outputs": [],
   "source": [
    "y_test = data_sq_cross['nb_ventes'].where(data_sq_cross['order_purchase_timestamp'] == data_sq_cross['order_purchase_timestamp'].unique()[-1]).dropna().reset_index(drop=True)"
   ]
  },
  {
   "cell_type": "code",
   "execution_count": 54,
   "metadata": {
    "colab": {},
    "colab_type": "code",
    "id": "O0ltYh76J1Aw"
   },
   "outputs": [],
   "source": [
    "X_test = data_sq_cross.where(data_sq_cross['order_purchase_timestamp'] == data_sq_cross['order_purchase_timestamp'].unique()[-2]).dropna().reset_index(drop=True)"
   ]
  },
  {
   "cell_type": "markdown",
   "metadata": {
    "colab_type": "text",
    "id": "iNCXMGgXJ1A1"
   },
   "source": [
    "**Train**"
   ]
  },
  {
   "cell_type": "code",
   "execution_count": 55,
   "metadata": {
    "colab": {
     "base_uri": "https://localhost:8080/",
     "height": 255
    },
    "colab_type": "code",
    "id": "WAT2zhwvJ1A2",
    "outputId": "ac24fdd9-f4f6-4623-e1e0-af12c5565318"
   },
   "outputs": [],
   "source": [
    "X_train = np.zeros((1,7))\n",
    "y_train = np.zeros((1,1))\n",
    "for i in data_sq_cross['order_purchase_timestamp'].unique():\n",
    "    if i == data_sq_cross['order_purchase_timestamp'].unique()[-2]:\n",
    "        break\n",
    "    \n",
    "    y = data_no_cross['nb_ventes'].where(data_no_cross['order_purchase_timestamp'] == (data_no_cross['order_purchase_timestamp'].unique()[data_no_cross['order_purchase_timestamp']\n",
    "                                                                                                               .unique()\n",
    "                                                                                                               .tolist()\n",
    "                                                                                                               .index(i)+1])).dropna().reset_index(drop=True)\n",
    "    \n",
    "    y = np.array(y).reshape((y.shape[0],1))\n",
    "    y_train = np.concatenate((y_train, y), axis=0)\n",
    "    X = data_sq_cross.where(data_sq_cross['order_purchase_timestamp'] == i).dropna().reset_index(drop=True)\n",
    "    X_train = np.concatenate((X_train, X), axis=0)\n",
    "X_train = np.delete(X_train, (0), axis=0)\n",
    "y_train = np.delete(y_train, (0), axis=0)"
   ]
  },
  {
   "cell_type": "code",
   "execution_count": 56,
   "metadata": {
    "colab": {},
    "colab_type": "code",
    "id": "u8SmEEmpJ1A6"
   },
   "outputs": [],
   "source": [
    "y_test = np.array(y_test).reshape(-1,1)"
   ]
  },
  {
   "cell_type": "code",
   "execution_count": 57,
   "metadata": {
    "colab": {},
    "colab_type": "code",
    "id": "QgS0kZesJ1BA"
   },
   "outputs": [],
   "source": [
    "X_test = np.array(X_test)"
   ]
  },
  {
   "cell_type": "markdown",
   "metadata": {
    "colab_type": "text",
    "id": "LpYeq3j5J1BI"
   },
   "source": [
    "## Implement NN"
   ]
  },
  {
   "cell_type": "markdown",
   "metadata": {
    "colab_type": "text",
    "id": "JshxGXB_aS4m"
   },
   "source": [
    "**NN**"
   ]
  },
  {
   "cell_type": "code",
   "execution_count": 58,
   "metadata": {
    "colab": {},
    "colab_type": "code",
    "id": "CjCr-ZTuJ1BL"
   },
   "outputs": [],
   "source": [
    "import keras"
   ]
  },
  {
   "cell_type": "code",
   "execution_count": 59,
   "metadata": {
    "colab": {},
    "colab_type": "code",
    "id": "mdOJGWKJJ1BN"
   },
   "outputs": [],
   "source": [
    "from keras.models import Sequential\n",
    "from keras.layers import Dense, Activation, SimpleRNN, ReLU, Dropout, Embedding"
   ]
  },
  {
   "cell_type": "code",
   "execution_count": 60,
   "metadata": {
    "colab": {},
    "colab_type": "code",
    "id": "ZB0c514eJ1Ba"
   },
   "outputs": [],
   "source": [
    "X_train = np.array(X_train).reshape(57393,7)\n",
    "X_test = np.array(X_test).reshape(8199,7)"
   ]
  },
  {
   "cell_type": "code",
   "execution_count": 61,
   "metadata": {
    "colab": {},
    "colab_type": "code",
    "id": "azQqNCHjJ1Bc"
   },
   "outputs": [],
   "source": [
    "y_train = keras.utils.to_categorical(y_train)\n",
    "y_test = keras.utils.to_categorical(y_test)"
   ]
  },
  {
   "cell_type": "code",
   "execution_count": 62,
   "metadata": {
    "colab": {
     "base_uri": "https://localhost:8080/",
     "height": 34
    },
    "colab_type": "code",
    "id": "PLh5dUjoJ1Be",
    "outputId": "6f759d83-da74-4ec1-e219-d1b54574a479"
   },
   "outputs": [
    {
     "name": "stdout",
     "output_type": "stream",
     "text": [
      "(57393, 46) (8199, 36)\n"
     ]
    }
   ],
   "source": [
    "print(y_train.shape,y_test.shape)"
   ]
  },
  {
   "cell_type": "code",
   "execution_count": 63,
   "metadata": {
    "colab": {
     "base_uri": "https://localhost:8080/",
     "height": 34
    },
    "colab_type": "code",
    "id": "5G8Aaz0DJ1Bg",
    "outputId": "a292e9bc-fda9-4d91-8377-6a518c9d8dc5"
   },
   "outputs": [
    {
     "data": {
      "text/plain": [
       "(8199, 46)"
      ]
     },
     "execution_count": 63,
     "metadata": {},
     "output_type": "execute_result"
    }
   ],
   "source": [
    "addytest = np.zeros((8199,10))\n",
    "y_test = np.concatenate((y_test,addytest), axis = 1)\n",
    "y_test.shape"
   ]
  },
  {
   "cell_type": "code",
   "execution_count": 64,
   "metadata": {
    "colab": {},
    "colab_type": "code",
    "id": "5dekpcEVJ1Bi"
   },
   "outputs": [],
   "source": [
    "model = Sequential()\n",
    "model.add(Dense(64, activation='sigmoid',input_shape=(7,)))\n",
    "model.add(Dense(32, activation='sigmoid'))\n",
    "model.add(Dense(46, activation='softmax'))\n",
    "\n",
    "model.compile(loss='binary_crossentropy',optimizer='rmsprop',metrics=['accuracy'])"
   ]
  },
  {
   "cell_type": "code",
   "execution_count": 65,
   "metadata": {
    "colab": {
     "base_uri": "https://localhost:8080/",
     "height": 275
    },
    "colab_type": "code",
    "id": "R1WznDEaJ1Bl",
    "outputId": "afe89e19-f836-4324-c851-aa32d92db3d7"
   },
   "outputs": [
    {
     "name": "stdout",
     "output_type": "stream",
     "text": [
      "Train on 45914 samples, validate on 11479 samples\n",
      "Epoch 1/6\n",
      "45914/45914 [==============================] - 4s 94us/step - loss: 0.0357 - accuracy: 0.9853 - val_loss: 0.0428 - val_accuracy: 0.9784\n",
      "Epoch 2/6\n",
      "45914/45914 [==============================] - 4s 90us/step - loss: 0.0344 - accuracy: 0.9855 - val_loss: 0.0449 - val_accuracy: 0.9782\n",
      "Epoch 3/6\n",
      "45914/45914 [==============================] - 6s 124us/step - loss: 0.0343 - accuracy: 0.9855 - val_loss: 0.0445 - val_accuracy: 0.9783\n",
      "Epoch 4/6\n",
      "45914/45914 [==============================] - 7s 151us/step - loss: 0.0342 - accuracy: 0.9855 - val_loss: 0.0437 - val_accuracy: 0.9783\n",
      "Epoch 5/6\n",
      "45914/45914 [==============================] - 6s 135us/step - loss: 0.0341 - accuracy: 0.9855 - val_loss: 0.0430 - val_accuracy: 0.9790\n",
      "Epoch 6/6\n",
      "45914/45914 [==============================] - 5s 115us/step - loss: 0.0325 - accuracy: 0.9866 - val_loss: 0.0422 - val_accuracy: 0.9796\n",
      "8199/8199 [==============================] - 0s 43us/step\n"
     ]
    }
   ],
   "source": [
    "model.fit(X_train, y_train,epochs=6, validation_split=0.2)\n",
    "score = model.evaluate(X_test, y_test)"
   ]
  },
  {
   "cell_type": "code",
   "execution_count": 66,
   "metadata": {
    "colab": {
     "base_uri": "https://localhost:8080/",
     "height": 34
    },
    "colab_type": "code",
    "id": "ysqNwgRpJ1Bo",
    "outputId": "e94d0e98-4512-4557-d682-d74e79ae98be"
   },
   "outputs": [
    {
     "data": {
      "text/plain": [
       "[0.0388768573391218, 0.9813337326049805]"
      ]
     },
     "execution_count": 66,
     "metadata": {},
     "output_type": "execute_result"
    }
   ],
   "source": [
    "score"
   ]
  },
  {
   "cell_type": "markdown",
   "metadata": {
    "colab_type": "text",
    "id": "uKj45u9QaZ55"
   },
   "source": [
    "**RNN**"
   ]
  },
  {
   "cell_type": "code",
   "execution_count": 67,
   "metadata": {
    "colab": {},
    "colab_type": "code",
    "id": "n0NJctnLJ1B0"
   },
   "outputs": [],
   "source": [
    "X_train = np.array(X_train).reshape(57393,7,1)\n",
    "X_test = np.array(X_test).reshape(8199,7,1)"
   ]
  },
  {
   "cell_type": "code",
   "execution_count": 68,
   "metadata": {
    "colab": {},
    "colab_type": "code",
    "id": "fzKuKB2tJ1B8"
   },
   "outputs": [],
   "source": [
    "model = Sequential() \n",
    "model.add(Dense(96, activation='relu',input_shape=(7,1)))\n",
    "model.add(Dense(64, activation='sigmoid'))\n",
    "model.add(SimpleRNN(32))\n",
    "model.add(Dense(46, activation='softmax'))\n",
    "\n",
    "model.compile(loss='binary_crossentropy',optimizer='rmsprop',metrics=['accuracy'])"
   ]
  },
  {
   "cell_type": "code",
   "execution_count": 69,
   "metadata": {
    "colab": {
     "base_uri": "https://localhost:8080/",
     "height": 173
    },
    "colab_type": "code",
    "id": "ezFC0dZoJ1B-",
    "outputId": "1760ec4a-927d-4358-affc-a0f49be545d1"
   },
   "outputs": [
    {
     "name": "stdout",
     "output_type": "stream",
     "text": [
      "Train on 45914 samples, validate on 11479 samples\n",
      "Epoch 1/3\n",
      "45914/45914 [==============================] - 11s 235us/step - loss: 0.0121 - accuracy: 0.9964 - val_loss: 0.0453 - val_accuracy: 0.9805\n",
      "Epoch 2/3\n",
      "45914/45914 [==============================] - 11s 234us/step - loss: 0.0077 - accuracy: 0.9981 - val_loss: 0.0371 - val_accuracy: 0.9843\n",
      "Epoch 3/3\n",
      "45914/45914 [==============================] - 10s 222us/step - loss: 0.0076 - accuracy: 0.9981 - val_loss: 0.0436 - val_accuracy: 0.9804\n",
      "8199/8199 [==============================] - 1s 96us/step\n"
     ]
    }
   ],
   "source": [
    "model.fit(X_train, y_train,epochs=3, validation_split=0.2)\n",
    "score = model.evaluate(X_test, y_test)"
   ]
  },
  {
   "cell_type": "code",
   "execution_count": 70,
   "metadata": {
    "colab": {
     "base_uri": "https://localhost:8080/",
     "height": 34
    },
    "colab_type": "code",
    "id": "twARlVv1J1CA",
    "outputId": "87127cf0-5f8b-496f-ac7d-306d36a0c9c9"
   },
   "outputs": [
    {
     "data": {
      "text/plain": [
       "[0.011681265220639437, 0.9970307350158691]"
      ]
     },
     "execution_count": 70,
     "metadata": {},
     "output_type": "execute_result"
    }
   ],
   "source": [
    "score"
   ]
  },
  {
   "cell_type": "code",
   "execution_count": null,
   "metadata": {},
   "outputs": [],
   "source": []
  },
  {
   "cell_type": "code",
   "execution_count": null,
   "metadata": {},
   "outputs": [],
   "source": []
  }
 ],
 "metadata": {
  "colab": {
   "collapsed_sections": [
    "NWvhI9RD4euB",
    "UaU1TIbTCaTW",
    "vEzbLMGXJ1AV"
   ],
   "name": "NN RNN.ipynb",
   "provenance": []
  },
  "kernelspec": {
   "display_name": "Python 3",
   "language": "python",
   "name": "python3"
  },
  "language_info": {
   "codemirror_mode": {
    "name": "ipython",
    "version": 3
   },
   "file_extension": ".py",
   "mimetype": "text/x-python",
   "name": "python",
   "nbconvert_exporter": "python",
   "pygments_lexer": "ipython3",
   "version": "3.8.3"
  }
 },
 "nbformat": 4,
 "nbformat_minor": 4
}
