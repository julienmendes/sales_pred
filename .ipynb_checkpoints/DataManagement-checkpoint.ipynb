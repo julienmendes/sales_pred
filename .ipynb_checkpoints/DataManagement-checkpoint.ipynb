{
 "cells": [
  {
   "cell_type": "markdown",
   "metadata": {},
   "source": [
    "# Data Management"
   ]
  },
  {
   "cell_type": "code",
   "execution_count": 1,
   "metadata": {},
   "outputs": [],
   "source": [
    "import pandas as pd\n",
    "import numpy as np\n",
    "from datetime import datetime as dt\n",
    "import matplotlib.pyplot as plt\n",
    "import seaborn as sns"
   ]
  },
  {
   "cell_type": "markdown",
   "metadata": {},
   "source": [
    "### Importer les données"
   ]
  },
  {
   "cell_type": "code",
   "execution_count": 2,
   "metadata": {},
   "outputs": [],
   "source": [
    "customers = pd.read_csv(\"Data/olist_customers_dataset.csv\")\n",
    "geolocation = pd.read_csv(\"Data/olist_geolocation_dataset.csv\")\n",
    "order_items = pd.read_csv(\"Data/olist_order_items_dataset.csv\")\n",
    "order_payments = pd.read_csv(\"Data/olist_order_payments_dataset.csv\")\n",
    "order_reviews = pd.read_csv(\"Data/olist_order_reviews_dataset.csv\")\n",
    "orders = pd.read_csv(\"Data/olist_orders_dataset.csv\")\n",
    "products = pd.read_csv(\"Data/olist_products_dataset.csv\")\n",
    "sellers = pd.read_csv(\"Data/olist_sellers_dataset.csv\")\n",
    "translations = pd.read_csv(\"Data/product_category_name_translation.csv\")"
   ]
  },
  {
   "cell_type": "markdown",
   "metadata": {},
   "source": [
    "### Traitement sur la table orders"
   ]
  },
  {
   "cell_type": "code",
   "execution_count": 3,
   "metadata": {},
   "outputs": [],
   "source": [
    "orders['order_approved_at'] = pd.to_datetime(orders['order_approved_at']) # Convertir en format datetime\n",
    "orders['order_approved_at'] = orders['order_approved_at'].dt.date         # Enlever heure/minutes/secondes\n",
    "\n",
    "orders[\"order_approved_at\"] = pd.to_datetime(orders[\"order_approved_at\"])\n",
    "orders[\"order_approved_at\"] = orders[\"order_approved_at\"].dt.date\n",
    "\n",
    "orders[\"order_delivered_customer_date\"] = pd.to_datetime(orders[\"order_delivered_customer_date\"])\n",
    "orders[\"order_delivered_customer_date\"] = orders[\"order_delivered_customer_date\"].dt.date\n",
    "\n",
    "orders[\"order_estimated_delivery_date\"] = pd.to_datetime(orders[\"order_estimated_delivery_date\"])\n",
    "orders[\"order_estimated_delivery_date\"] = orders[\"order_estimated_delivery_date\"].dt.date\n",
    "\n",
    "orders[\"order_purchase_timestamp\"] = pd.to_datetime(orders[\"order_purchase_timestamp\"])\n",
    "orders[\"order_purchase_timestamp\"] = orders[\"order_purchase_timestamp\"].dt.date"
   ]
  },
  {
   "cell_type": "markdown",
   "metadata": {},
   "source": [
    "Nouvelles variables : \n",
    "- Temps de livraison estimé\n",
    "- Retard ou avance par rapport a la date de livraison estimé"
   ]
  },
  {
   "cell_type": "code",
   "execution_count": 4,
   "metadata": {},
   "outputs": [],
   "source": [
    "orders[\"temps_estim\"] = orders[\"order_estimated_delivery_date\"] - orders[\"order_approved_at\"]\n",
    "orders[\"retard_avance\"] = orders[\"order_estimated_delivery_date\"] - orders[\"order_delivered_customer_date\"]"
   ]
  },
  {
   "cell_type": "code",
   "execution_count": 5,
   "metadata": {},
   "outputs": [
    {
     "data": {
      "text/plain": [
       "order_id                            0\n",
       "customer_id                         0\n",
       "order_status                        0\n",
       "order_purchase_timestamp            0\n",
       "order_approved_at                 160\n",
       "order_delivered_carrier_date     1783\n",
       "order_delivered_customer_date    2965\n",
       "order_estimated_delivery_date       0\n",
       "temps_estim                       160\n",
       "retard_avance                    2965\n",
       "dtype: int64"
      ]
     },
     "execution_count": 5,
     "metadata": {},
     "output_type": "execute_result"
    }
   ],
   "source": [
    "orders.isna().sum() \n",
    "# 2965 NA pour retard avance donc on les remplace par des 0 : on assume que la date estimée est la date effective de livraison"
   ]
  },
  {
   "cell_type": "code",
   "execution_count": 6,
   "metadata": {},
   "outputs": [
    {
     "name": "stderr",
     "output_type": "stream",
     "text": [
      "C:\\Users\\33633\\Anaconda3\\lib\\site-packages\\pandas\\core\\generic.py:5208: SettingWithCopyWarning: \n",
      "A value is trying to be set on a copy of a slice from a DataFrame.\n",
      "Try using .loc[row_indexer,col_indexer] = value instead\n",
      "\n",
      "See the caveats in the documentation: http://pandas.pydata.org/pandas-docs/stable/user_guide/indexing.html#returning-a-view-versus-a-copy\n",
      "  self[name] = value\n"
     ]
    }
   ],
   "source": [
    "orders_bis = orders[[\"order_id\", \"order_status\",\"temps_estim\",\"retard_avance\"]] # Sélection des variables intéressantes\n",
    "orders_bis.retard_avance = orders_bis.retard_avance.fillna(pd.to_timedelta(\"0 days 00:00:00\")) # remplacer par 0 (pas de retard, pas d'avance)\n",
    "orders_bis = orders_bis.dropna().merge(order_items)"
   ]
  },
  {
   "cell_type": "markdown",
   "metadata": {},
   "source": [
    "### Traitement sur la table order_reviews"
   ]
  },
  {
   "cell_type": "code",
   "execution_count": 7,
   "metadata": {},
   "outputs": [],
   "source": [
    "# Enlever les reviews qui se répètent.\n",
    "order_reviews = order_reviews.drop_duplicates([\"review_id\"], keep='first')"
   ]
  },
  {
   "cell_type": "code",
   "execution_count": 8,
   "metadata": {},
   "outputs": [],
   "source": [
    "# Nouvelle variable : taille du commentaire\n",
    "order_reviews[\"review_comment_message\"] = order_reviews[\"review_comment_message\"].fillna('') # compléter avec des string vides lorsque Nan\n",
    "order_reviews[\"taille_com\"] = order_reviews[\"review_comment_message\"].str.len()"
   ]
  },
  {
   "cell_type": "code",
   "execution_count": 9,
   "metadata": {},
   "outputs": [],
   "source": [
    "# Une même commande avec plusieurs produits contient toujours un seul même produit\n",
    "# order_items.groupby(\"order_id\")[\"order_item_id\"].count().sort_values()"
   ]
  },
  {
   "cell_type": "code",
   "execution_count": 10,
   "metadata": {},
   "outputs": [],
   "source": [
    "# Exemple d'une commande qui plusieurs produits étant les mêmes.\n",
    "same_product = order_items.where(order_items[\"order_id\"] == \"1b15974a0141d54e36626dca3fdc731a\").dropna()"
   ]
  },
  {
   "cell_type": "markdown",
   "metadata": {},
   "source": [
    "__Table 1 : Une ligne = Un produit avec ses caractéristiques (prix, frais de livraison, score moyen, taille moyenne du commentaire, temps moyen estimé de livraison, retard moyen ou avance moyenne sur la date de livraison)__"
   ]
  },
  {
   "cell_type": "code",
   "execution_count": 11,
   "metadata": {},
   "outputs": [],
   "source": [
    "product_info = (orders_bis\n",
    "                .merge(order_reviews, how='inner') # Inner pour garder les produits pour lesquels on a le prix + le commentaire\n",
    "                .drop([\"review_comment_title\"], axis=1)\n",
    "                .groupby('product_id')\n",
    "                .agg(\n",
    "                    {\n",
    "                        \"price\": \"mean\",\n",
    "                        \"freight_value\": \"mean\",\n",
    "                        \"review_score\": \"mean\", \n",
    "                        \"taille_com\":\"sum\",\n",
    "                        \"temps_estim\":pd.Series.mean,\n",
    "                        \"retard_avance\":pd.Series.mean\n",
    "                    })\n",
    "                .reset_index()\n",
    "               )"
   ]
  },
  {
   "cell_type": "code",
   "execution_count": 12,
   "metadata": {},
   "outputs": [
    {
     "data": {
      "text/html": [
       "<div>\n",
       "<style scoped>\n",
       "    .dataframe tbody tr th:only-of-type {\n",
       "        vertical-align: middle;\n",
       "    }\n",
       "\n",
       "    .dataframe tbody tr th {\n",
       "        vertical-align: top;\n",
       "    }\n",
       "\n",
       "    .dataframe thead th {\n",
       "        text-align: right;\n",
       "    }\n",
       "</style>\n",
       "<table border=\"1\" class=\"dataframe\">\n",
       "  <thead>\n",
       "    <tr style=\"text-align: right;\">\n",
       "      <th></th>\n",
       "      <th>product_id</th>\n",
       "      <th>price</th>\n",
       "      <th>freight_value</th>\n",
       "      <th>review_score</th>\n",
       "      <th>taille_com</th>\n",
       "      <th>temps_estim</th>\n",
       "      <th>retard_avance</th>\n",
       "    </tr>\n",
       "  </thead>\n",
       "  <tbody>\n",
       "    <tr>\n",
       "      <td>0</td>\n",
       "      <td>00066f42aeeb9f3007548bb9d3f33c38</td>\n",
       "      <td>101.65</td>\n",
       "      <td>18.59</td>\n",
       "      <td>5.0</td>\n",
       "      <td>0</td>\n",
       "      <td>31 days</td>\n",
       "      <td>14 days 00:00:00</td>\n",
       "    </tr>\n",
       "    <tr>\n",
       "      <td>1</td>\n",
       "      <td>00088930e925c41fd95ebfe695fd2655</td>\n",
       "      <td>129.90</td>\n",
       "      <td>13.93</td>\n",
       "      <td>4.0</td>\n",
       "      <td>0</td>\n",
       "      <td>24 days</td>\n",
       "      <td>13 days 00:00:00</td>\n",
       "    </tr>\n",
       "    <tr>\n",
       "      <td>2</td>\n",
       "      <td>0009406fd7479715e4bef61dd91f2462</td>\n",
       "      <td>229.00</td>\n",
       "      <td>13.10</td>\n",
       "      <td>1.0</td>\n",
       "      <td>43</td>\n",
       "      <td>25 days</td>\n",
       "      <td>10 days 00:00:00</td>\n",
       "    </tr>\n",
       "    <tr>\n",
       "      <td>3</td>\n",
       "      <td>000b8f95fcb9e0096488278317764d19</td>\n",
       "      <td>58.90</td>\n",
       "      <td>19.60</td>\n",
       "      <td>5.0</td>\n",
       "      <td>210</td>\n",
       "      <td>20 days</td>\n",
       "      <td>13 days 12:00:00</td>\n",
       "    </tr>\n",
       "    <tr>\n",
       "      <td>4</td>\n",
       "      <td>000d9be29b5207b54e86aa1b1ac54872</td>\n",
       "      <td>199.00</td>\n",
       "      <td>19.27</td>\n",
       "      <td>5.0</td>\n",
       "      <td>40</td>\n",
       "      <td>27 days</td>\n",
       "      <td>20 days 00:00:00</td>\n",
       "    </tr>\n",
       "  </tbody>\n",
       "</table>\n",
       "</div>"
      ],
      "text/plain": [
       "                         product_id   price  freight_value  review_score  \\\n",
       "0  00066f42aeeb9f3007548bb9d3f33c38  101.65          18.59           5.0   \n",
       "1  00088930e925c41fd95ebfe695fd2655  129.90          13.93           4.0   \n",
       "2  0009406fd7479715e4bef61dd91f2462  229.00          13.10           1.0   \n",
       "3  000b8f95fcb9e0096488278317764d19   58.90          19.60           5.0   \n",
       "4  000d9be29b5207b54e86aa1b1ac54872  199.00          19.27           5.0   \n",
       "\n",
       "   taille_com temps_estim    retard_avance  \n",
       "0           0     31 days 14 days 00:00:00  \n",
       "1           0     24 days 13 days 00:00:00  \n",
       "2          43     25 days 10 days 00:00:00  \n",
       "3         210     20 days 13 days 12:00:00  \n",
       "4          40     27 days 20 days 00:00:00  "
      ]
     },
     "execution_count": 12,
     "metadata": {},
     "output_type": "execute_result"
    }
   ],
   "source": [
    "product_info.head()"
   ]
  },
  {
   "cell_type": "markdown",
   "metadata": {},
   "source": [
    "__Table 2 : Table finale__"
   ]
  },
  {
   "cell_type": "code",
   "execution_count": 13,
   "metadata": {},
   "outputs": [],
   "source": [
    "table_finale = (orders\n",
    "                .merge(order_items)\n",
    "                .merge(order_reviews)\n",
    "                # Ventes par produit PAR MOIS\n",
    "                .groupby(['product_id',pd.to_datetime(pd.to_datetime(orders['order_purchase_timestamp']).dt.strftime('%m-%Y'))]) \n",
    "                .agg({\n",
    "                    \"price\": \"mean\", \n",
    "                    \"freight_value\": \"mean\",\n",
    "                    \"review_score\": \"mean\", \n",
    "                    \"taille_com\":\"sum\",\n",
    "                    \"temps_estim\":pd.Series.mean,\n",
    "                    \"retard_avance\":pd.Series.mean,\n",
    "                    \"order_id\":\"count\"\n",
    "                })\n",
    "                .reset_index()\n",
    "                .rename({\"order_id\":\"nb_ventes\"}, axis=1)\n",
    "               )"
   ]
  },
  {
   "cell_type": "code",
   "execution_count": 14,
   "metadata": {},
   "outputs": [
    {
     "data": {
      "text/plain": [
       "product_id                     0\n",
       "order_purchase_timestamp       0\n",
       "price                          0\n",
       "freight_value                  0\n",
       "review_score                   0\n",
       "taille_com                     0\n",
       "temps_estim                    9\n",
       "retard_avance               1587\n",
       "nb_ventes                      0\n",
       "dtype: int64"
      ]
     },
     "execution_count": 14,
     "metadata": {},
     "output_type": "execute_result"
    }
   ],
   "source": [
    "table_finale.isna().sum()"
   ]
  },
  {
   "cell_type": "code",
   "execution_count": 15,
   "metadata": {},
   "outputs": [],
   "source": [
    "table_finale[\"retard_avance\"] = table_finale[\"retard_avance\"].fillna(pd.to_timedelta(\"0 days 00:00:00\")) # retard_avance = 0 si NAN"
   ]
  },
  {
   "cell_type": "markdown",
   "metadata": {},
   "source": [
    "Calculer une moyenne cumulée selon la date de la commande pour :\n",
    "- la taille moyenne du commentaire\n",
    "- le score moyen d'un produit"
   ]
  },
  {
   "cell_type": "code",
   "execution_count": 16,
   "metadata": {},
   "outputs": [],
   "source": [
    "table_finale[\"count_index\"] = 1\n",
    "table_finale[\"count_index\"] = (table_finale\n",
    "                               .groupby([\"product_id\"])[\"count_index\"]\n",
    "                               .transform(lambda x: x.cumsum())\n",
    "                              )"
   ]
  },
  {
   "cell_type": "code",
   "execution_count": 17,
   "metadata": {},
   "outputs": [],
   "source": [
    "# Moyenne cumulée de la taille d'un commentaire\n",
    "table_finale[\"cummean_taille_com\"] = (table_finale\n",
    "                                      .groupby([\"product_id\"])[\"taille_com\"]\n",
    "                                      .transform(lambda x: x.cumsum()) / table_finale[\"count_index\"]\n",
    "                                     )"
   ]
  },
  {
   "cell_type": "code",
   "execution_count": 18,
   "metadata": {},
   "outputs": [],
   "source": [
    "# Moyenne cumulée du score moyen d'un commentaire\n",
    "table_finale[\"cummean_review_score\"] = (table_finale\n",
    "                                        .groupby([\"product_id\"])[\"review_score\"]\n",
    "                                        .transform(lambda x: x.cumsum()) / table_finale[\"count_index\"]\n",
    "                                       )"
   ]
  },
  {
   "cell_type": "code",
   "execution_count": 19,
   "metadata": {},
   "outputs": [],
   "source": [
    "table_finale = (table_finale\n",
    "                .merge(products)\n",
    "                .dropna()\n",
    "                .sort_values(by=\"order_purchase_timestamp\")\n",
    "                .reset_index()\n",
    "               )\n",
    "table_finale = table_finale.drop([\"index\", \"count_index\"], axis=1)"
   ]
  },
  {
   "cell_type": "code",
   "execution_count": 20,
   "metadata": {},
   "outputs": [],
   "source": [
    "table_finale.temps_estim = table_finale.temps_estim.dt.days # convert timestamp into int\n",
    "table_finale.retard_avance = table_finale.retard_avance.dt.days # négatif = retard, positif = avance"
   ]
  },
  {
   "cell_type": "code",
   "execution_count": 21,
   "metadata": {},
   "outputs": [
    {
     "data": {
      "text/html": [
       "<div>\n",
       "<style scoped>\n",
       "    .dataframe tbody tr th:only-of-type {\n",
       "        vertical-align: middle;\n",
       "    }\n",
       "\n",
       "    .dataframe tbody tr th {\n",
       "        vertical-align: top;\n",
       "    }\n",
       "\n",
       "    .dataframe thead th {\n",
       "        text-align: right;\n",
       "    }\n",
       "</style>\n",
       "<table border=\"1\" class=\"dataframe\">\n",
       "  <thead>\n",
       "    <tr style=\"text-align: right;\">\n",
       "      <th></th>\n",
       "      <th>product_id</th>\n",
       "      <th>order_purchase_timestamp</th>\n",
       "      <th>price</th>\n",
       "      <th>freight_value</th>\n",
       "      <th>review_score</th>\n",
       "      <th>taille_com</th>\n",
       "      <th>temps_estim</th>\n",
       "      <th>retard_avance</th>\n",
       "      <th>nb_ventes</th>\n",
       "      <th>cummean_taille_com</th>\n",
       "      <th>cummean_review_score</th>\n",
       "      <th>product_category_name</th>\n",
       "      <th>product_name_lenght</th>\n",
       "      <th>product_description_lenght</th>\n",
       "      <th>product_photos_qty</th>\n",
       "      <th>product_weight_g</th>\n",
       "      <th>product_length_cm</th>\n",
       "      <th>product_height_cm</th>\n",
       "      <th>product_width_cm</th>\n",
       "    </tr>\n",
       "  </thead>\n",
       "  <tbody>\n",
       "    <tr>\n",
       "      <td>0</td>\n",
       "      <td>07bcd890d449e493b4ec23d05a9e40ee</td>\n",
       "      <td>2016-09-01</td>\n",
       "      <td>28.90</td>\n",
       "      <td>18.23</td>\n",
       "      <td>5.0</td>\n",
       "      <td>0</td>\n",
       "      <td>48</td>\n",
       "      <td>34</td>\n",
       "      <td>1</td>\n",
       "      <td>0.0</td>\n",
       "      <td>5.0</td>\n",
       "      <td>esporte_lazer</td>\n",
       "      <td>34.0</td>\n",
       "      <td>237.0</td>\n",
       "      <td>3.0</td>\n",
       "      <td>800.0</td>\n",
       "      <td>30.0</td>\n",
       "      <td>15.0</td>\n",
       "      <td>20.0</td>\n",
       "    </tr>\n",
       "    <tr>\n",
       "      <td>1</td>\n",
       "      <td>aca11cfc608a458947b3038e5e70312f</td>\n",
       "      <td>2016-09-01</td>\n",
       "      <td>49.90</td>\n",
       "      <td>15.56</td>\n",
       "      <td>5.0</td>\n",
       "      <td>18</td>\n",
       "      <td>25</td>\n",
       "      <td>16</td>\n",
       "      <td>1</td>\n",
       "      <td>18.0</td>\n",
       "      <td>5.0</td>\n",
       "      <td>utilidades_domesticas</td>\n",
       "      <td>58.0</td>\n",
       "      <td>668.0</td>\n",
       "      <td>2.0</td>\n",
       "      <td>700.0</td>\n",
       "      <td>25.0</td>\n",
       "      <td>15.0</td>\n",
       "      <td>60.0</td>\n",
       "    </tr>\n",
       "    <tr>\n",
       "      <td>2</td>\n",
       "      <td>1fce7b244f4a45431713165a869f5f32</td>\n",
       "      <td>2016-09-01</td>\n",
       "      <td>146.21</td>\n",
       "      <td>19.99</td>\n",
       "      <td>1.0</td>\n",
       "      <td>56</td>\n",
       "      <td>24</td>\n",
       "      <td>6</td>\n",
       "      <td>1</td>\n",
       "      <td>56.0</td>\n",
       "      <td>1.0</td>\n",
       "      <td>perfumaria</td>\n",
       "      <td>56.0</td>\n",
       "      <td>1420.0</td>\n",
       "      <td>2.0</td>\n",
       "      <td>575.0</td>\n",
       "      <td>16.0</td>\n",
       "      <td>22.0</td>\n",
       "      <td>16.0</td>\n",
       "    </tr>\n",
       "    <tr>\n",
       "      <td>3</td>\n",
       "      <td>a50acd33ba7a8da8e9db65094fa990a4</td>\n",
       "      <td>2016-09-01</td>\n",
       "      <td>117.30</td>\n",
       "      <td>31.96</td>\n",
       "      <td>5.0</td>\n",
       "      <td>0</td>\n",
       "      <td>21</td>\n",
       "      <td>4</td>\n",
       "      <td>1</td>\n",
       "      <td>0.0</td>\n",
       "      <td>5.0</td>\n",
       "      <td>automotivo</td>\n",
       "      <td>53.0</td>\n",
       "      <td>555.0</td>\n",
       "      <td>1.0</td>\n",
       "      <td>4105.0</td>\n",
       "      <td>67.0</td>\n",
       "      <td>10.0</td>\n",
       "      <td>67.0</td>\n",
       "    </tr>\n",
       "    <tr>\n",
       "      <td>4</td>\n",
       "      <td>5237739bb5fee495dbd337755a138660</td>\n",
       "      <td>2016-10-01</td>\n",
       "      <td>1549.00</td>\n",
       "      <td>26.05</td>\n",
       "      <td>4.0</td>\n",
       "      <td>0</td>\n",
       "      <td>26</td>\n",
       "      <td>19</td>\n",
       "      <td>1</td>\n",
       "      <td>0.0</td>\n",
       "      <td>4.0</td>\n",
       "      <td>relogios_presentes</td>\n",
       "      <td>39.0</td>\n",
       "      <td>600.0</td>\n",
       "      <td>3.0</td>\n",
       "      <td>645.0</td>\n",
       "      <td>19.0</td>\n",
       "      <td>16.0</td>\n",
       "      <td>18.0</td>\n",
       "    </tr>\n",
       "  </tbody>\n",
       "</table>\n",
       "</div>"
      ],
      "text/plain": [
       "                         product_id order_purchase_timestamp    price  \\\n",
       "0  07bcd890d449e493b4ec23d05a9e40ee               2016-09-01    28.90   \n",
       "1  aca11cfc608a458947b3038e5e70312f               2016-09-01    49.90   \n",
       "2  1fce7b244f4a45431713165a869f5f32               2016-09-01   146.21   \n",
       "3  a50acd33ba7a8da8e9db65094fa990a4               2016-09-01   117.30   \n",
       "4  5237739bb5fee495dbd337755a138660               2016-10-01  1549.00   \n",
       "\n",
       "   freight_value  review_score  taille_com  temps_estim  retard_avance  \\\n",
       "0          18.23           5.0           0           48             34   \n",
       "1          15.56           5.0          18           25             16   \n",
       "2          19.99           1.0          56           24              6   \n",
       "3          31.96           5.0           0           21              4   \n",
       "4          26.05           4.0           0           26             19   \n",
       "\n",
       "   nb_ventes  cummean_taille_com  cummean_review_score  product_category_name  \\\n",
       "0          1                 0.0                   5.0          esporte_lazer   \n",
       "1          1                18.0                   5.0  utilidades_domesticas   \n",
       "2          1                56.0                   1.0             perfumaria   \n",
       "3          1                 0.0                   5.0             automotivo   \n",
       "4          1                 0.0                   4.0     relogios_presentes   \n",
       "\n",
       "   product_name_lenght  product_description_lenght  product_photos_qty  \\\n",
       "0                 34.0                       237.0                 3.0   \n",
       "1                 58.0                       668.0                 2.0   \n",
       "2                 56.0                      1420.0                 2.0   \n",
       "3                 53.0                       555.0                 1.0   \n",
       "4                 39.0                       600.0                 3.0   \n",
       "\n",
       "   product_weight_g  product_length_cm  product_height_cm  product_width_cm  \n",
       "0             800.0               30.0               15.0              20.0  \n",
       "1             700.0               25.0               15.0              60.0  \n",
       "2             575.0               16.0               22.0              16.0  \n",
       "3            4105.0               67.0               10.0              67.0  \n",
       "4             645.0               19.0               16.0              18.0  "
      ]
     },
     "execution_count": 21,
     "metadata": {},
     "output_type": "execute_result"
    }
   ],
   "source": [
    "table_finale.head()"
   ]
  },
  {
   "cell_type": "code",
   "execution_count": 22,
   "metadata": {},
   "outputs": [
    {
     "data": {
      "text/plain": [
       "product_id                    0\n",
       "order_purchase_timestamp      0\n",
       "price                         0\n",
       "freight_value                 0\n",
       "review_score                  0\n",
       "taille_com                    0\n",
       "temps_estim                   0\n",
       "retard_avance                 0\n",
       "nb_ventes                     0\n",
       "cummean_taille_com            0\n",
       "cummean_review_score          0\n",
       "product_category_name         0\n",
       "product_name_lenght           0\n",
       "product_description_lenght    0\n",
       "product_photos_qty            0\n",
       "product_weight_g              0\n",
       "product_length_cm             0\n",
       "product_height_cm             0\n",
       "product_width_cm              0\n",
       "dtype: int64"
      ]
     },
     "execution_count": 22,
     "metadata": {},
     "output_type": "execute_result"
    }
   ],
   "source": [
    "table_finale.isna().sum()"
   ]
  },
  {
   "cell_type": "markdown",
   "metadata": {},
   "source": [
    "Transformer la variable de catégorie de produit en dummies:"
   ]
  },
  {
   "cell_type": "code",
   "execution_count": 23,
   "metadata": {},
   "outputs": [],
   "source": [
    "table_finale = pd.get_dummies(table_finale, columns=[\"product_category_name\"])"
   ]
  },
  {
   "cell_type": "code",
   "execution_count": 24,
   "metadata": {},
   "outputs": [],
   "source": [
    "# Drop the observations before nov 2017 and after sept 2018 because of the effect of introduction of a technologie\n",
    "mask = ((table_finale['order_purchase_timestamp'] > pd.Timestamp('2017-11-01 00:00:00')) & (table_finale['order_purchase_timestamp'] < pd.Timestamp('2018-09-01 00:00:00')) ) \n",
    "table_finale = table_finale[mask]"
   ]
  },
  {
   "cell_type": "markdown",
   "metadata": {},
   "source": [
    "Retirer les produits qui ont été vendu une seule fois"
   ]
  },
  {
   "cell_type": "code",
   "execution_count": 25,
   "metadata": {},
   "outputs": [],
   "source": [
    "def filter_by_freq(df: pd.DataFrame, column: str, min_freq: int) -> pd.DataFrame:\n",
    "    \"\"\"Filters the DataFrame based on the value frequency in the specified column.\n",
    "    :param df: DataFrame to be filtered.\n",
    "    :param column: Column name that should be frequency filtered.\n",
    "    :param min_freq: Minimal value frequency for the row to be accepted.\n",
    "    :return: Frequency filtered DataFrame.\n",
    "    \"\"\"\n",
    "    # Frequencies of each value in the column.\n",
    "    freq = df[column].value_counts()\n",
    "    # Select frequent values. Value is in the index.\n",
    "    frequent_values = freq[freq > min_freq].index\n",
    "    # Return only rows with value frequency above threshold.\n",
    "    return df[df[column].isin(frequent_values)]"
   ]
  },
  {
   "cell_type": "code",
   "execution_count": 26,
   "metadata": {},
   "outputs": [],
   "source": [
    "table_finale_filtered = filter_by_freq(table_finale, \"product_id\", 1)"
   ]
  },
  {
   "cell_type": "markdown",
   "metadata": {},
   "source": [
    "### Assigner chaque produit aux 9 mois présent sur la période (même si non vendus)"
   ]
  },
  {
   "cell_type": "code",
   "execution_count": 27,
   "metadata": {},
   "outputs": [],
   "source": [
    "data = (table_finale_filtered\n",
    "        .set_index([\"product_id\",\"order_purchase_timestamp\"])\n",
    "        .unstack()\n",
    "        .stack(dropna=False)\n",
    "        .reset_index())"
   ]
  },
  {
   "cell_type": "code",
   "execution_count": 28,
   "metadata": {},
   "outputs": [],
   "source": [
    "col_to_fill = [col for col in data if col != \"nb_ventes\"]"
   ]
  },
  {
   "cell_type": "code",
   "execution_count": 29,
   "metadata": {},
   "outputs": [],
   "source": [
    "data.loc[:,col_to_fill] = data.loc[:,col_to_fill].groupby(\"product_id\").fillna(method=\"ffill\").fillna(method=\"bfill\")"
   ]
  },
  {
   "cell_type": "code",
   "execution_count": 30,
   "metadata": {},
   "outputs": [
    {
     "data": {
      "text/plain": [
       "product_id                                        73791\n",
       "order_purchase_timestamp                              0\n",
       "price                                                 0\n",
       "freight_value                                         0\n",
       "review_score                                          0\n",
       "                                                  ...  \n",
       "product_category_name_sinalizacao_e_seguranca         0\n",
       "product_category_name_tablets_impressao_imagem        0\n",
       "product_category_name_telefonia                       0\n",
       "product_category_name_telefonia_fixa                  0\n",
       "product_category_name_utilidades_domesticas           0\n",
       "Length: 91, dtype: int64"
      ]
     },
     "execution_count": 30,
     "metadata": {},
     "output_type": "execute_result"
    }
   ],
   "source": [
    "data.isna().sum()"
   ]
  },
  {
   "cell_type": "code",
   "execution_count": 31,
   "metadata": {},
   "outputs": [],
   "source": [
    "data.nb_ventes = data.nb_ventes.fillna(0)"
   ]
  },
  {
   "cell_type": "code",
   "execution_count": 32,
   "metadata": {},
   "outputs": [],
   "source": [
    "data.product_id = np.repeat(table_finale_filtered.product_id.unique(), 9)"
   ]
  },
  {
   "cell_type": "markdown",
   "metadata": {},
   "source": [
    "## ADD cross products and squared variables"
   ]
  },
  {
   "cell_type": "code",
   "execution_count": 33,
   "metadata": {},
   "outputs": [],
   "source": [
    "from itertools import combinations"
   ]
  },
  {
   "cell_type": "code",
   "execution_count": 34,
   "metadata": {},
   "outputs": [],
   "source": [
    "cross_var =  [col for col in data if not col.startswith('product_category')] # Liste de variables sans les catégories (dummies)"
   ]
  },
  {
   "cell_type": "code",
   "execution_count": 35,
   "metadata": {},
   "outputs": [],
   "source": [
    "squared_variables = ((data[cross_var].drop(\"nb_ventes\",axis=1).select_dtypes(include = np.number))**2).add_suffix('_2')"
   ]
  },
  {
   "cell_type": "code",
   "execution_count": 36,
   "metadata": {},
   "outputs": [],
   "source": [
    "data_sq_cross = pd.concat([data, squared_variables], axis=1)"
   ]
  },
  {
   "cell_type": "code",
   "execution_count": 37,
   "metadata": {},
   "outputs": [],
   "source": [
    "cross_products = []\n",
    "cross_products.append(list(combinations((data[cross_var].drop(\"nb_ventes\",axis=1).select_dtypes(include = np.number)).columns,2))) # liste des couples de variables à croiser sans la variable y (ventes)et sans les carrés\n",
    "# sans list, l'objet a un type bizarre (itertools)"
   ]
  },
  {
   "cell_type": "code",
   "execution_count": 38,
   "metadata": {},
   "outputs": [],
   "source": [
    "for j in range(len(cross_products[0])): # Nombre de couples total\n",
    "    var_name = [str(cross_products[0][j])[2:-2].replace(\"', '\",\"_x_\")] # liste à un élément avec le nouveau nom de la variable croisée\n",
    "    data_sq_cross[var_name[0]] = data[cross_products[0][j][0]] * data[cross_products[0][j][1]] # Remplir le dataframe X avec les produits croisés"
   ]
  },
  {
   "cell_type": "markdown",
   "metadata": {},
   "source": [
    "### Exporter les tables"
   ]
  },
  {
   "cell_type": "code",
   "execution_count": 43,
   "metadata": {},
   "outputs": [],
   "source": [
    "data.to_csv(\"preprocessed_data/data.csv\",index=False)"
   ]
  },
  {
   "cell_type": "code",
   "execution_count": 44,
   "metadata": {},
   "outputs": [],
   "source": [
    "data_sq_cross.to_csv(\"preprocessed_data/data_sq_cross.csv\", index=False)"
   ]
  },
  {
   "cell_type": "code",
   "execution_count": null,
   "metadata": {},
   "outputs": [],
   "source": []
  }
 ],
 "metadata": {
  "kernelspec": {
   "display_name": "Python 3",
   "language": "python",
   "name": "python3"
  },
  "language_info": {
   "codemirror_mode": {
    "name": "ipython",
    "version": 3
   },
   "file_extension": ".py",
   "mimetype": "text/x-python",
   "name": "python",
   "nbconvert_exporter": "python",
   "pygments_lexer": "ipython3",
   "version": "3.8.3"
  }
 },
 "nbformat": 4,
 "nbformat_minor": 4
}
