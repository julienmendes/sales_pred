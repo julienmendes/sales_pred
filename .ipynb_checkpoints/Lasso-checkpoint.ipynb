{
 "cells": [
  {
   "cell_type": "markdown",
   "metadata": {},
   "source": [
    "# Lasso method to select variables"
   ]
  },
  {
   "cell_type": "code",
   "execution_count": 1,
   "metadata": {},
   "outputs": [],
   "source": [
    "import pandas as pd\n",
    "import numpy as np"
   ]
  },
  {
   "cell_type": "code",
   "execution_count": 2,
   "metadata": {},
   "outputs": [],
   "source": [
    "from sklearn.model_selection import train_test_split \n",
    "from sklearn.preprocessing import StandardScaler # To standardize data\n",
    "from sklearn.linear_model import Lasso, lasso_path "
   ]
  },
  {
   "cell_type": "code",
   "execution_count": 3,
   "metadata": {},
   "outputs": [],
   "source": [
    "import matplotlib.cm as cm\n",
    "import matplotlib.pyplot as plt"
   ]
  },
  {
   "cell_type": "markdown",
   "metadata": {},
   "source": [
    "Initial Data"
   ]
  },
  {
   "cell_type": "code",
   "execution_count": 14,
   "metadata": {},
   "outputs": [],
   "source": [
    "data = pd.read_csv(\"preprocessed_data/data.csv\")"
   ]
  },
  {
   "cell_type": "markdown",
   "metadata": {},
   "source": [
    "Initial Data augmented with the cross products and the quared of variables"
   ]
  },
  {
   "cell_type": "code",
   "execution_count": 11,
   "metadata": {},
   "outputs": [],
   "source": [
    "data_sq_cross = pd.read_csv(\"preprocessed_data/data_sq_cross.csv\")"
   ]
  },
  {
   "cell_type": "markdown",
   "metadata": {},
   "source": [
    "__Separate X from y to train the models__"
   ]
  },
  {
   "cell_type": "code",
   "execution_count": 15,
   "metadata": {},
   "outputs": [],
   "source": [
    "y = data_sq_cross[\"nb_ventes\"]"
   ]
  },
  {
   "cell_type": "code",
   "execution_count": 16,
   "metadata": {},
   "outputs": [],
   "source": [
    "X_sq_cross = data_sq_cross.drop([\"nb_ventes\"], axis=1).set_index([\"product_id\", \"order_purchase_timestamp\"])"
   ]
  },
  {
   "cell_type": "code",
   "execution_count": 18,
   "metadata": {},
   "outputs": [],
   "source": [
    "X = data.drop([\"nb_ventes\"], axis=1).set_index([\"product_id\", \"order_purchase_timestamp\"])"
   ]
  },
  {
   "cell_type": "code",
   "execution_count": 19,
   "metadata": {},
   "outputs": [],
   "source": [
    "X_sq_train, X_sq_test, y_train, y_test = train_test_split(X_sq_cross, y, test_size=0.30, random_state=42)"
   ]
  },
  {
   "cell_type": "markdown",
   "metadata": {},
   "source": [
    "Normaliser les données"
   ]
  },
  {
   "cell_type": "code",
   "execution_count": 20,
   "metadata": {
    "colab": {},
    "colab_type": "code",
    "id": "d4FCd53AhjAK"
   },
   "outputs": [],
   "source": [
    "sc = StandardScaler()\n",
    "X_sq_train = sc.fit_transform(X_sq_train)\n",
    "y_train = sc.fit_transform(y_train.values.reshape(-1,1))"
   ]
  },
  {
   "cell_type": "markdown",
   "metadata": {},
   "source": [
    "### Lasso with different values for $\\alpha$ with squred and cross variables"
   ]
  },
  {
   "cell_type": "code",
   "execution_count": 21,
   "metadata": {},
   "outputs": [],
   "source": [
    "my_alphas = np.array([0.001,0.01,0.02,0.025,0.05,0.1,0.25,0.5,0.8,1.0])\n",
    "\n",
    "alpha_for_path_sq, coefs_lasso_sq, _ = lasso_path(X_sq_train, y_train,alphas=my_alphas)"
   ]
  },
  {
   "cell_type": "code",
   "execution_count": 22,
   "metadata": {},
   "outputs": [
    {
     "data": {
      "text/plain": [
       "(1, 208, 10)"
      ]
     },
     "execution_count": 22,
     "metadata": {},
     "output_type": "execute_result"
    }
   ],
   "source": [
    "coefs_lasso_sq.shape"
   ]
  },
  {
   "cell_type": "code",
   "execution_count": 23,
   "metadata": {},
   "outputs": [],
   "source": [
    "coefs_lasso_sq = coefs_lasso_sq.reshape(208, 10)"
   ]
  },
  {
   "cell_type": "code",
   "execution_count": 24,
   "metadata": {},
   "outputs": [
    {
     "data": {
      "image/png": "[encoded data removed]",
      "text/plain": [
       "<Figure size 432x288 with 1 Axes>"
      ]
     },
     "metadata": {
      "needs_background": "light"
     },
     "output_type": "display_data"
    }
   ],
   "source": [
    "#jeu de couleurs pour faire joli\n",
    "alpha_for_path_sq = alpha_for_path_sq.reshape(10,1)\n",
    "couleurs = cm.rainbow(np.linspace(0,1,208))\n",
    "#graphique lasso path (une courbe par variable)\n",
    "for i in range((coefs_lasso_sq.reshape(208, 10)).shape[0]):\n",
    "    plt.plot(alpha_for_path_sq,coefs_lasso_sq[i],c=couleurs[i])\n",
    "\n",
    "plt.xlabel('Alpha')\n",
    "plt.ylabel('Coefficients')\n",
    "plt.title('Lasso path')\n",
    "plt.show()"
   ]
  },
  {
   "cell_type": "code",
   "execution_count": 25,
   "metadata": {},
   "outputs": [
    {
     "name": "stdout",
     "output_type": "stream",
     "text": [
      "Lasso picked [  0   0   1   3   5   6  14  18  32 124] variables and eliminated the other [208 208 207 205 203 202 194 190 176  84] variables\n"
     ]
    }
   ],
   "source": [
    "print(\"Lasso picked \" + str(sum(coefs_lasso_sq != 0)) + \" variables and eliminated the other \" +  str(sum(coefs_lasso_sq == 0)) + \" variables\")"
   ]
  },
  {
   "cell_type": "code",
   "execution_count": 26,
   "metadata": {},
   "outputs": [
    {
     "name": "stdout",
     "output_type": "stream",
     "text": [
      "   alpha  Nb non-zero coefs\n",
      "0  1.000                  0\n",
      "1  0.800                  0\n",
      "2  0.500                  1\n",
      "3  0.250                  3\n",
      "4  0.100                  5\n",
      "5  0.050                  6\n",
      "6  0.025                 14\n",
      "7  0.020                 18\n",
      "8  0.010                 32\n",
      "9  0.001                124\n"
     ]
    }
   ],
   "source": [
    "alpha_for_path_sq = alpha_for_path_sq.reshape(10,)\n",
    "nbNonZero = np.apply_along_axis(func1d=np.count_nonzero,arr=coefs_lasso_sq,axis=0)\n",
    "print(pd.DataFrame({'alpha':alpha_for_path_sq,'Nb non-zero coefs':nbNonZero}))"
   ]
  },
  {
   "cell_type": "code",
   "execution_count": 27,
   "metadata": {},
   "outputs": [],
   "source": [
    "#nom des variables\n",
    "nom_var = X_sq_cross.columns\n",
    "#coefficients pour alpha=0.025 (colonne n°3)\n",
    "coefs25 = coefs_lasso_sq[:,3]\n",
    "#affichage des coefficients pour alpha = 0.025\n",
    "coef = pd.DataFrame({'Variables':nom_var,'Coefficients':coefs25}).sort_values(by='Coefficients')"
   ]
  },
  {
   "cell_type": "code",
   "execution_count": 28,
   "metadata": {},
   "outputs": [
    {
     "data": {
      "text/html": [
       "<div>\n",
       "<style scoped>\n",
       "    .dataframe tbody tr th:only-of-type {\n",
       "        vertical-align: middle;\n",
       "    }\n",
       "\n",
       "    .dataframe tbody tr th {\n",
       "        vertical-align: top;\n",
       "    }\n",
       "\n",
       "    .dataframe thead th {\n",
       "        text-align: right;\n",
       "    }\n",
       "</style>\n",
       "<table border=\"1\" class=\"dataframe\">\n",
       "  <thead>\n",
       "    <tr style=\"text-align: right;\">\n",
       "      <th></th>\n",
       "      <th>Variables</th>\n",
       "      <th>Coefficients</th>\n",
       "    </tr>\n",
       "  </thead>\n",
       "  <tbody>\n",
       "    <tr>\n",
       "      <td>91</td>\n",
       "      <td>taille_com_2</td>\n",
       "      <td>0.025869</td>\n",
       "    </tr>\n",
       "    <tr>\n",
       "      <td>130</td>\n",
       "      <td>review_score_x_taille_com</td>\n",
       "      <td>0.059395</td>\n",
       "    </tr>\n",
       "    <tr>\n",
       "      <td>144</td>\n",
       "      <td>taille_com_x_cummean_taille_com</td>\n",
       "      <td>0.306343</td>\n",
       "    </tr>\n",
       "  </tbody>\n",
       "</table>\n",
       "</div>"
      ],
      "text/plain": [
       "                           Variables  Coefficients\n",
       "91                      taille_com_2      0.025869\n",
       "130        review_score_x_taille_com      0.059395\n",
       "144  taille_com_x_cummean_taille_com      0.306343"
      ]
     },
     "execution_count": 28,
     "metadata": {},
     "output_type": "execute_result"
    }
   ],
   "source": [
    "coef[np.abs(coef.Coefficients)>0]"
   ]
  },
  {
   "cell_type": "markdown",
   "metadata": {},
   "source": [
    "__Lasso with different values for $\\alpha$ with initial dataset__"
   ]
  },
  {
   "cell_type": "code",
   "execution_count": 29,
   "metadata": {},
   "outputs": [],
   "source": [
    "X_train, X_test, y_train, y_test = train_test_split(X, y, test_size=0.30, random_state=42)"
   ]
  },
  {
   "cell_type": "code",
   "execution_count": 30,
   "metadata": {},
   "outputs": [],
   "source": [
    "my_alphas = np.array([0.001,0.01,0.02,0.025,0.05,0.1,0.25,0.5,0.8,1.0])\n",
    "\n",
    "alpha_for_path, coefs_lasso, _ = lasso_path(X_train, y_train,alphas=my_alphas)"
   ]
  },
  {
   "cell_type": "code",
   "execution_count": 31,
   "metadata": {},
   "outputs": [
    {
     "data": {
      "text/plain": [
       "(88, 10)"
      ]
     },
     "execution_count": 31,
     "metadata": {},
     "output_type": "execute_result"
    }
   ],
   "source": [
    "coefs_lasso.shape"
   ]
  },
  {
   "cell_type": "code",
   "execution_count": 32,
   "metadata": {},
   "outputs": [],
   "source": [
    "coefs_lasso = coefs_lasso.reshape(88, 10)"
   ]
  },
  {
   "cell_type": "code",
   "execution_count": 33,
   "metadata": {},
   "outputs": [
    {
     "data": {
      "image/png": "[encoded data removed]",
      "text/plain": [
       "<Figure size 432x288 with 1 Axes>"
      ]
     },
     "metadata": {
      "needs_background": "light"
     },
     "output_type": "display_data"
    }
   ],
   "source": [
    "#jeu de couleurs pour faire joli\n",
    "alpha_for_path = alpha_for_path.reshape(10,1)\n",
    "couleurs = cm.rainbow(np.linspace(0,1,88))\n",
    "#graphique lasso path (une courbe par variable)\n",
    "for i in range((coefs_lasso.reshape(88, 10)).shape[0]):\n",
    "    plt.plot(alpha_for_path,coefs_lasso[i],c=couleurs[i])\n",
    "\n",
    "plt.xlabel('Alpha')\n",
    "plt.ylabel('Coefficients')\n",
    "plt.title('Lasso path')\n",
    "plt.show()"
   ]
  },
  {
   "cell_type": "code",
   "execution_count": 34,
   "metadata": {},
   "outputs": [
    {
     "name": "stdout",
     "output_type": "stream",
     "text": [
      "Lasso picked [ 6  6  6  6 11 11 14 15 15 35] variables and eliminated the other [82 82 82 82 77 77 74 73 73 53] variables\n"
     ]
    }
   ],
   "source": [
    "print(\"Lasso picked \" + str(sum(coefs_lasso != 0)) + \" variables and eliminated the other \" +  str(sum(coefs_lasso == 0)) + \" variables\")"
   ]
  },
  {
   "cell_type": "code",
   "execution_count": 35,
   "metadata": {},
   "outputs": [
    {
     "name": "stdout",
     "output_type": "stream",
     "text": [
      "   alpha  Nb non-zero coefs\n",
      "0  1.000                  6\n",
      "1  0.800                  6\n",
      "2  0.500                  6\n",
      "3  0.250                  6\n",
      "4  0.100                 11\n",
      "5  0.050                 11\n",
      "6  0.025                 14\n",
      "7  0.020                 15\n",
      "8  0.010                 15\n",
      "9  0.001                 35\n"
     ]
    }
   ],
   "source": [
    "alpha_for_path = alpha_for_path.reshape(10,)\n",
    "nbNonZero = np.apply_along_axis(func1d=np.count_nonzero,arr=coefs_lasso,axis=0)\n",
    "print(pd.DataFrame({'alpha':alpha_for_path,'Nb non-zero coefs':nbNonZero}))"
   ]
  },
  {
   "cell_type": "code",
   "execution_count": 36,
   "metadata": {},
   "outputs": [],
   "source": [
    "#nom des variables\n",
    "nom_var = X.columns\n",
    "#coefficients pour alpha=0.025 (colonne n°3)\n",
    "coefs25 = coefs_lasso[:,3]\n",
    "#affichage des coefficients pour alpha = 0.025\n",
    "coef = pd.DataFrame({'Variables':nom_var,'Coefficients':coefs25}).sort_values(by='Coefficients')"
   ]
  },
  {
   "cell_type": "code",
   "execution_count": 37,
   "metadata": {},
   "outputs": [
    {
     "data": {
      "text/html": [
       "<div>\n",
       "<style scoped>\n",
       "    .dataframe tbody tr th:only-of-type {\n",
       "        vertical-align: middle;\n",
       "    }\n",
       "\n",
       "    .dataframe tbody tr th {\n",
       "        vertical-align: top;\n",
       "    }\n",
       "\n",
       "    .dataframe thead th {\n",
       "        text-align: right;\n",
       "    }\n",
       "</style>\n",
       "<table border=\"1\" class=\"dataframe\">\n",
       "  <thead>\n",
       "    <tr style=\"text-align: right;\">\n",
       "      <th></th>\n",
       "      <th>Variables</th>\n",
       "      <th>Coefficients</th>\n",
       "    </tr>\n",
       "  </thead>\n",
       "  <tbody>\n",
       "    <tr>\n",
       "      <td>0</td>\n",
       "      <td>price</td>\n",
       "      <td>-0.000275</td>\n",
       "    </tr>\n",
       "    <tr>\n",
       "      <td>11</td>\n",
       "      <td>product_weight_g</td>\n",
       "      <td>-0.000007</td>\n",
       "    </tr>\n",
       "    <tr>\n",
       "      <td>9</td>\n",
       "      <td>product_description_lenght</td>\n",
       "      <td>0.000031</td>\n",
       "    </tr>\n",
       "    <tr>\n",
       "      <td>6</td>\n",
       "      <td>cummean_taille_com</td>\n",
       "      <td>0.003446</td>\n",
       "    </tr>\n",
       "    <tr>\n",
       "      <td>3</td>\n",
       "      <td>taille_com</td>\n",
       "      <td>0.007908</td>\n",
       "    </tr>\n",
       "    <tr>\n",
       "      <td>2</td>\n",
       "      <td>review_score</td>\n",
       "      <td>0.040852</td>\n",
       "    </tr>\n",
       "  </tbody>\n",
       "</table>\n",
       "</div>"
      ],
      "text/plain": [
       "                     Variables  Coefficients\n",
       "0                        price     -0.000275\n",
       "11            product_weight_g     -0.000007\n",
       "9   product_description_lenght      0.000031\n",
       "6           cummean_taille_com      0.003446\n",
       "3                   taille_com      0.007908\n",
       "2                 review_score      0.040852"
      ]
     },
     "execution_count": 37,
     "metadata": {},
     "output_type": "execute_result"
    }
   ],
   "source": [
    "coef[np.abs(coef.Coefficients)>0]"
   ]
  },
  {
   "cell_type": "code",
   "execution_count": null,
   "metadata": {},
   "outputs": [],
   "source": []
  }
 ],
 "metadata": {
  "kernelspec": {
   "display_name": "Python 3",
   "language": "python",
   "name": "python3"
  },
  "language_info": {
   "codemirror_mode": {
    "name": "ipython",
    "version": 3
   },
   "file_extension": ".py",
   "mimetype": "text/x-python",
   "name": "python",
   "nbconvert_exporter": "python",
   "pygments_lexer": "ipython3",
   "version": "3.8.3"
  }
 },
 "nbformat": 4,
 "nbformat_minor": 4
}
